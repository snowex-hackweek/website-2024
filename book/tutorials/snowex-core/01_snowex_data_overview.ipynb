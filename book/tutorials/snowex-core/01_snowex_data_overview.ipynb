{
 "cells": [
  {
   "cell_type": "markdown",
   "id": "9a64ec36-bdfb-46e1-af66-77e0a1572c61",
   "metadata": {},
   "source": [
    "![](./content/01_banner.png)"
   ]
  },
  {
   "cell_type": "markdown",
   "id": "3d490f3b-f45b-41a0-b6fe-8e0ffc98fda6",
   "metadata": {},
   "source": [
    "# SnowEx Field Campaigns Overview \n",
    "(5 minutes)\n",
    "\n",
    "By: **Megan Mason** (NASA Goddard / SSAI) megan.a.mason@nasa.gov\n",
    "  \n",
    "Support by:  **Carrie Vuyovich** (NASA Goddard), **Hans-Peter Marshall** (Boise State), **Svetlana Stuefer** (University of Alaska Fairbanks)"
   ]
  },
  {
   "cell_type": "markdown",
   "id": "34c2b5cb-f193-41c5-816b-d7eecdb522ad",
   "metadata": {},
   "source": [
    "```{admonition} Learning Objectives\n",
    "* Visual overview of the NASA SnowEx field campaigns\n",
    "* Get a sense for the extent of data coverage\n",
    "```"
   ]
  },
  {
   "cell_type": "markdown",
   "id": "dff0f23b-fd37-497f-9938-536e476dbba4",
   "metadata": {},
   "source": [
    "![](./content/01_teaser.png)"
   ]
  },
  {
   "cell_type": "markdown",
   "id": "e8861543-a4aa-4425-9b82-773e0ec56c45",
   "metadata": {},
   "source": [
    "## Data Coverage\n",
    "Each year we build upon our efforts to further investigate snow remote sensing science gaps identified in the NASA SnowEx Science Plan [(Durand et al., 2016)](https://snow.nasa.gov/sites/default/files/SnowEx_Science_Plan_v1.6.pdf). The summary table lists the focus for each campaign by year and type. There are two different campaign types (IOP vs. TS); both result in the same types of measurements and data products. Depending on the  research application it may not matter at all which you choose to work with, or even combine! The important thing to grasp is the difference in spatial and temporal extent of the campaign periods. If the sampling protocols or data products change over time, it is for the sake of improvement. When possible, we aim to keep things consistent to continue to build a legacy data set. "
   ]
  },
  {
   "cell_type": "markdown",
   "id": "ac7b22dd-1ebe-49f8-9cb8-8c990ef2c9b8",
   "metadata": {},
   "source": [
    "| **Year**     | **Campaign Type** | **Measurement Focus** |\n",
    "| :----------- | :--------- |:------------------- |\n",
    "| 2017  | IOP   | Colorado, focused on multiple instruments in a forest gradient.       |\n",
    "| 2020  | IOP, TS   | Western U.S focused on Time Series of L-band InSAR, active/passive microwave for SWE and thermal IR for snow surface temp.|\n",
    "| 2021  | TS   | Western U.S, continued Time Series of L-band InSAR, also addressed prairie & snow albedo questions. |\n",
    "| 2023  | IOP   | Alaska Tundra & Boreal forest, focused on addressing SWE/snow depth and albedo objectives. |\n",
    "\n",
    "\n",
    "*IOP=Intense Observation Period (~2-3 week, daily observations) *; *TS=Time Series (~3-5 month winter, weekly observations)*\n",
    "_____"
   ]
  },
  {
   "cell_type": "markdown",
   "id": "522552d1-cb33-4c69-b38f-df674b933183",
   "metadata": {},
   "source": [
    "### Where has SnowEx Been?\n",
    "Campaign efforts are focused on various snow climates in the western United States. SnowEx partnerships and expertise are spread across the U.S and international.\n",
    "    \n",
    "![](./content/01_snowex-map.png)\n",
    "**Figure 1.** Map showing the locations of SnowEx field campaign areas (red dot). Base map shows snow classes defined in [Sturm and Liston, 2021](https://journals.ametsoc.org/view/journals/hydr/22/11/JHM-D-21-0070.1.xml). The snow pit images show a representative pit in each of the class types visited by SnowEx. "
   ]
  },
  {
   "attachments": {},
   "cell_type": "markdown",
   "id": "ef5f6870-65e3-4173-be33-6739b2bc7822",
   "metadata": {},
   "source": [
    "**Table 1. Number of manual depths and snow pits associated with NASA SnowEx measurement periods.**\n",
    "\n",
    "| **SnowEx** | **Field Campaign Location** | **Temporal Coverage** | **Manual Depths** | **Snow Pits** |\n",
    "|------------|-----------------------------|-----------------------|:-----------------:|:-------------:|\n",
    "| **S17**    | Grand Mesa & Senator Beck Basin, Colorado | February 6-25, 2017 | 23,432           | 265           |\n",
    "| **S20**    | Grand Mesa, Colorado<br>Western U.S Time Series (13 sites) | November 4-7, 2019<br>January 27-February 12, 2020<br>October 24-May 20, 2020* | 16,212<br>37,921<br>TBD | 21<br>154<br>454 |\n",
    "| **S21**    | Western U.S Time Series (7 sites) | November 16-May 27, 2021 | 12,536           | 247           |\n",
    "| **S23**    | Tundra & Boreal Forest, Alaska (pre-campaign site visit)<br>Tundra & Boreal Forest, Alaska<br>Tundra & Boreal Forest, Alaska<br>Boreal Forest, Alaska<br>Tundra & Boreal Forest, Alaska<br> | March 7-17, 2022<br>October 22-27, 2022<br>March 7-16, 2023<br>April 5-May 6, 2023<br>October 17-28, 2023 | 10,728<br>9,049<br>26,750<br>TBD<br>6,350 | 18<br>186<br>170<br>13<br>127 |\n",
    "\n",
    "_*The majority of sites in 2020 have a temporal coverage of January-March due to the Covid-19 pandemic._ "
   ]
  },
  {
   "cell_type": "markdown",
   "id": "2f41eea6-692d-4b12-9761-527f52d573f6",
   "metadata": {},
   "source": [
    "_____\n",
    "### Snow Classification Coverage\n",
    "\n",
    "<!-- Thanks to Sturm and Liston 2021 (and 1995), we have a global seasonal snow classification system. This is a vital mission planning tool for remote sensing snow studies. Revised from inception, the snow classification system offers improved utility of the climatological snow classes due to improved (much higher) resolution (300 m over North America). This data set can be found at NSIDC and downloaded at multiple resolutions.\n",
    "\n",
    "[NSIDC Global Seasonal-Snow Classification, Version 1](https://nsidc.org/data/NSIDC-0768/versions/1) \n",
    "\n",
    "Check out [Sturm and Liston, 2021](https://journals.ametsoc.org/view/journals/hydr/22/11/JHM-D-21-0070.1.xml) to find out more \n",
    "    \n",
    "![](./content/01_snow-classes-sturm.png)\n",
    "**Figure 3.** Snow Classes across North America at 300 m (Sturm and Liston, 2021) -->\n",
    "\n",
    "As part of the mission statement, SnowEx aims to quantify snow estimation uncertainty across a range of snow classes, terrain and vegetation types. This is important to determine what areas and time periods have high SWE uncertainty across the ensemble of instrument techniques. \n",
    "\n",
    "    \n",
    "![](./content/01_map-n-barchart.png)\n",
    "**Figure 2.** Map of the in situ field visits for the duration of SnowEx field campaigns (2017-2023). At this scale, points are overlapping, especially in the eastern Rocky Mountain region around Colorado. The total number of unique visits with recorded SWE are listed in the legend. Upper Right Bar chart of snow classes over the four SnowEx field campaign years. Counts represent in situ field visits. A range of sites in Boreal and Montane Forests occurred in open areas such as meadows and clearings. The snow classification colors match those used in [Sturm and Liston, 2021](https://journals.ametsoc.org/view/journals/hydr/22/11/JHM-D-21-0070.1.xml).\n",
    "\n",
    "<!-- ![](./content/01_snow-classes-barchart.png)\n",
    "**Figure 2.** Bar chart of snow classes over the four SnowEx field campagin years. Counts represent in situ field visits. A range of sites in Boreal and Montane Forests occured in open areas such as meadows and clearings. The snow classification colors match those used in [Sturm and Liston, 2021](https://journals.ametsoc.org/view/journals/hydr/22/11/JHM-D-21-0070.1.xml).  -->\n",
    "\n",
    "<!-- ![](./content/01_map-n-barchart.png)\n",
    "**Figure 2.** Bar chart of snow classes over the four SnowEx field campagin years. Counts represent in situ field visits. A range of sites in Boreal and Montane Forests occured in open areas such as meadows and clearings. The snow classification colors match those used in [Sturm and Liston, 2021](https://journals.ametsoc.org/view/journals/hydr/22/11/JHM-D-21-0070.1.xml). -->"
   ]
  },
  {
   "cell_type": "markdown",
   "id": "313fc52a-a81e-424a-9592-4452c03b1dd0",
   "metadata": {},
   "source": [
    "### Recap\n",
    "* SnowEx campaigns are structured based on the objectives set out in the SnowEx Science Plan. Some of those objectives are meet by conducting an all hands-on, short and intense observation period (IOP), while others are addressed by studying the evolution of the snowpack over a much longer time series (TS) style campaign. \n",
    "\n",
    "* The coincident field and airborne campaigns are designed to directly respond to the current knowledge gaps in remote sensing of seasonal snow, thus the participant-driven SnowEx effort targets a range of snow classes, terrain and vegetation types.  "
   ]
  },
  {
   "cell_type": "markdown",
   "id": "96cfee5c-28e2-42cd-9fba-af2eba15c0da",
   "metadata": {},
   "source": [
    "### References \n",
    "SnowEx Experimental Plans: 2017, [2020](https://snow.nasa.gov/sites/default/files/NASA_SnowEx_Experiment_Plan_v15_draft.pdf), [2021](https://snow.nasa.gov/sites/default/files/users/user354/SNEX-Campaigns/2021/NASASnowEx21_ExperimentPlan_draft_v02.pdf), [2023](https://snow.nasa.gov/sites/default/files/users/user354/SNEX-Campaigns/2023/NASA_SnowEx_Experiment_Plan_2023_draft_20June2024.pdf)\n",
    "\n",
    "[SnowEx Science Plan](https://snow.nasa.gov/sites/default/files/SnowEx_Science_Plan_v1.6.pdf)\n",
    "\n",
    "[Sturm and Liston, 2021](https://journals.ametsoc.org/view/journals/hydr/22/11/JHM-D-21-0070.1.xml)"
   ]
  }
 ],
 "metadata": {
  "kernelspec": {
   "display_name": "Python 3 (ipykernel)",
   "language": "python",
   "name": "python3"
  },
  "language_info": {
   "codemirror_mode": {
    "name": "ipython",
    "version": 3
   },
   "file_extension": ".py",
   "mimetype": "text/x-python",
   "name": "python",
   "nbconvert_exporter": "python",
   "pygments_lexer": "ipython3",
   "version": "3.11.9"
  }
 },
 "nbformat": 4,
 "nbformat_minor": 5
}
