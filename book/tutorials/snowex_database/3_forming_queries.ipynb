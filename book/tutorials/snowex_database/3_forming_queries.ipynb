{
 "cells": [
  {
   "cell_type": "markdown",
   "metadata": {},
   "source": [
    "# Forming Queries through the API!\n",
    "\n",
    "Get familiar with the tools available for querying the database. The simplest way is to use the api classes \n",
    "* [`snowexsql.api.PointMeasurements`](https://github.com/SnowEx/snowexsql/blob/830fa76de8cf13c5101e1b4b663c1b399f81d7e6/snowexsql/api.py#L185)\n",
    "* [`snowexsql.api.LayerMeasurements`](https://github.com/SnowEx/snowexsql/blob/830fa76de8cf13c5101e1b4b663c1b399f81d7e6/snowexsql/api.py#L262)\n",
    "\n",
    "* Each class has to very useful functions\n",
    "  1. [`from_filter`](https://github.com/SnowEx/snowexsql/blob/830fa76de8cf13c5101e1b4b663c1b399f81d7e6/snowexsql/api.py#L192)\n",
    "  2. [`from_area`](https://github.com/SnowEx/snowexsql/blob/830fa76de8cf13c5101e1b4b663c1b399f81d7e6/snowexsql/api.py#L210)\n",
    "\n",
    "## Useful Function - `from_filter`\n",
    "\n",
    "Use the from filter function to find density profiles\n"
   ]
  },
  {
   "cell_type": "code",
   "execution_count": null,
   "metadata": {},
   "outputs": [],
   "source": [
    "# Import in our two classes to access the db\n",
    "from snowexsql.api import LayerMeasurements\n",
    "from datetime import datetime \n",
    "\n",
    "# Find some density pit measurements at the Boise site in december 2019.\n",
    "df = LayerMeasurements.from_filter(\n",
    "    type=\"density\",\n",
    "    site_name=\"Boise River Basin\",\n",
    "    date_less_equal=datetime(2020, 1, 1),\n",
    "    date_greater_equal=datetime(2019, 12, 1),\n",
    ")\n",
    "\n",
    "# Plot Example!\n",
    "df.plot()\n",
    "\n",
    "# Show off the dataframe\n",
    "df\n",
    "\n",
    "# Analysis Example - Find the bulk density \n",
    "df['value'] = df['value'].astype(float)\n",
    "print(df[['site_id', 'value']].groupby(by='site_id').mean())"
   ]
  },
  {
   "cell_type": "markdown",
   "metadata": {},
   "source": [
    "## Useful Function - `from_area`\n",
    "Find specific surface area within a certain distance of a pit."
   ]
  },
  {
   "cell_type": "code",
   "execution_count": null,
   "metadata": {},
   "outputs": [],
   "source": [
    "# Import our api class\n",
    "from snowexsql.api import LayerMeasurements\n",
    "from datetime import datetime\n",
    "import geopandas as gpd \n",
    "\n",
    "# import some gis functionality \n",
    "from shapely.geometry import Point \n",
    "\n",
    "# Find some SSA measurements within a distance of a known point\n",
    "pnt = Point(740820.624625,4.327326e+06)\n",
    "df = LayerMeasurements.from_area(pt=pnt, crs=26912, buffer=500,\n",
    "    type='specific_surface_area')\n",
    "\n",
    "# plot up the results\n",
    "ax = df.plot()\n",
    "\n",
    "# plot the site so we can see how close everything is.\n",
    "site = gpd.GeoDataFrame(geometry=[pnt], crs=26912)\n",
    "site.plot(ax=ax, marker='^', color='magenta')\n",
    "\n",
    "# show off the dataframe\n",
    "df"
   ]
  },
  {
   "cell_type": "markdown",
   "metadata": {},
   "source": [
    "## How do I know what to filter on?\n",
    "We got tools for that! Each class has a host of functions that start with `all_*` these function return the unique value in that column. \n",
    "\n",
    " * `all_types` - all the data types e.g. depth, swe, density...\n",
    " * `all_instruments` - all instruments available in the table\n",
    " * `all_dates` - all dates listed in the table\n",
    " * `all_site_names` - all the site names available in the table. e.g. Grand Mesa"
   ]
  },
  {
   "cell_type": "code",
   "execution_count": null,
   "metadata": {},
   "outputs": [],
   "source": [
    "from snowexsql.api import PointMeasurements\n",
    "\n",
    "# Instantiate the class to use the properties!\n",
    "measurements = PointMeasurements()\n",
    "\n",
    "# Get the unique data names/types in the table\n",
    "results = measurements.all_types\n",
    "print('Available types = {}'.format(', '.join([str(r) for r in results])))\n",
    "\n",
    "# Get the unique instrument in the table\n",
    "results = measurements.all_instruments\n",
    "print('\\nAvailable Instruments = {}'.format(', '.join([str(r) for r in results])))\n",
    "\n",
    "# Get the unique dates in the table\n",
    "results = measurements.all_dates\n",
    "print('\\nAvailable Dates = {}'.format(', '.join([str(r) for r in results])))\n",
    "\n",
    "# Get the unique site names in the table\n",
    "results = measurements.all_site_names\n",
    "print('\\nAvailable sites = {}'.format(', '.join([str(r) for r in results])))"
   ]
  },
  {
   "cell_type": "markdown",
   "metadata": {},
   "source": [
    "### More specific filtering options\n",
    "Sometimes we need a bit more filtering to know more about what I can filter on. Questions like \"What dates was the SMP used?\" are a bit more complicated than \"Give me all the dates for snowex\"\n",
    "\n",
    "The good news is, we have tool for that! `from_unique_entries` is your friend!"
   ]
  },
  {
   "cell_type": "code",
   "execution_count": null,
   "metadata": {},
   "outputs": [],
   "source": [
    "# import layer measurements\n",
    "from snowexsql.api import LayerMeasurements\n",
    "\n",
    "# Query dates where SMP was used\n",
    "LayerMeasurements.from_unique_entries(['date'], instrument='snowmicropen')"
   ]
  },
  {
   "cell_type": "markdown",
   "metadata": {},
   "source": [
    "## Query Nuances\n",
    "### Limit size \n",
    "To avoid accidental large queries, we have added some bumper rails. By default if you ask for more than 1000 records then an error will pop up unless you explicitly say you want more. \n",
    "\n",
    "**Try This**: Do a large query. Run the code block below without the limit keyword argument (\"kwarg\"):"
   ]
  },
  {
   "cell_type": "code",
   "execution_count": null,
   "metadata": {},
   "outputs": [],
   "source": [
    "# Import PointMeasurements\n",
    "from snowexsql.api import PointMeasurements\n",
    "\n",
    "# Query db using a vague filter or on a huge dataset like GPR but remove the limit kwarg\n",
    "df = PointMeasurements.from_filter(type='two_way_travel', limit=100)\n",
    "\n",
    "# Show the dataframe\n",
    "df\n",
    "\n"
   ]
  },
  {
   "cell_type": "markdown",
   "metadata": {},
   "source": [
    "We have added this on the db to allow you to explore without accidentally pulling the entire SnowEx universe down. If you know you want a large query (defined as > 1000) then use the `limit = ####` option in the `from_filter` or `from_area` function.\n",
    "\n",
    "**Warning** - It is better to filter using other things besides the limit because the limit is not intelligent. It will simply limit the query by the order of entries that were submitted AND fits your filter. So if you encounter this then consider how to tighten up the filter.\n",
    "\n",
    "### List of Criteria\n",
    "You can use lists in your requests too!"
   ]
  },
  {
   "cell_type": "code",
   "execution_count": null,
   "metadata": {},
   "outputs": [],
   "source": [
    "# Import layer measurements\n",
    "from snowexsql.api import LayerMeasurements\n",
    "\n",
    "# Grab all the data that used the one of these instruments (hint hint SSA)\n",
    "ssa_instruments = [\"IS3-SP-15-01US\", \"IRIS\",  \"IS3-SP-11-01F\"]\n",
    "\n",
    "# Query the DB (throw a limit for safety)\n",
    "LayerMeasurements.from_filter(instrument=ssa_instruments, limit=100)"
   ]
  },
  {
   "cell_type": "markdown",
   "metadata": {},
   "source": [
    "### Greater than or Less than\n",
    "Sometimes we want to isolate certain ranges of value or even dates. The `greater_equal` and `less_equal` terms can be added on to `value` or `dates`. \n",
    "\n",
    "* `date_greater_equal`\n",
    "* `date_less_equal`\n",
    "* `value_greater_equal`\n",
    "* `value_less_equal`\n",
    " "
   ]
  },
  {
   "cell_type": "code",
   "execution_count": null,
   "metadata": {},
   "outputs": [],
   "source": [
    "# Import the point measurements class\n",
    "from snowexsql.api import PointMeasurements\n",
    "\n",
    "# Filter values > 100 cm from the pulse ecko GPR\n",
    "df = PointMeasurements.from_filter(value_greater_equal=100, type='depth', instrument='pulse EKKO Pro multi-polarization 1 GHz GPR', limit=100)\n",
    "\n",
    "# Show off the dataframe\n",
    "df"
   ]
  },
  {
   "cell_type": "markdown",
   "metadata": {},
   "source": [
    "## Recap \n",
    "You just came in contact with the new API tools. We can use each API class to pull from specific tables and filter the data. \n",
    "**You should know:**\n",
    "* How to build queries using `from_filter`, `from_area`, `from_unique_entries`\n",
    "* Determine what values to filter on\n",
    "* Manage the limit error\n",
    "* Filtering on greater and less than\n",
    "  \n",
    "If you don't feel comfortable with these, you are probably not alone, let's discuss it!"
   ]
  },
  {
   "cell_type": "code",
   "execution_count": null,
   "metadata": {},
   "outputs": [],
   "source": []
  }
 ],
 "metadata": {
  "kernelspec": {
   "display_name": "Python 3 (ipykernel)",
   "language": "python",
   "name": "python3"
  },
  "language_info": {
   "codemirror_mode": {
    "name": "ipython",
    "version": 3
   },
   "file_extension": ".py",
   "mimetype": "text/x-python",
   "name": "python",
   "nbconvert_exporter": "python",
   "pygments_lexer": "ipython3",
   "version": "3.11.9"
  }
 },
 "nbformat": 4,
 "nbformat_minor": 4
}
