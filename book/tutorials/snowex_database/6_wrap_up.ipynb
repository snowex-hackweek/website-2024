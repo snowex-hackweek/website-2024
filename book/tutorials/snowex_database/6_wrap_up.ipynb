{
 "cells": [
  {
   "cell_type": "markdown",
   "id": "approximate-selling",
   "metadata": {},
   "source": [
    "# Wrap up\n",
    "\n",
    "1. SnowEx database is going to save you time and frustration.\n",
    "2. Its structured into 4 tables, points, layers, rasters and site data\n",
    "3. Forming queries is best done using the new API tools `PointMeasurements`, `LayerMeasurements`, `RasterMeasurements` and their functions `from_filter` and ` from_area`\n",
    "\n",
    "\n",
    "## Community Software\n",
    "\n",
    "* Open Source software means you can participate! Checkout the repos involved:\n",
    "  1. [snowexsql](https://github.com/SnowEx/snowexsql) - Access tool for querying the database.\n",
    "  2. [snowex_db](https://github.com/SnowEx/snowex_db) - Source code for managing the db\n",
    "  3. [insitupy](https://github.com/M3Works/insitupy) - **NEW** python package for reading insitu measurements files\n",
    "     \n",
    "* Can I work locally? Yep! Checkout the [python installation on RTD](https://snowexsql.readthedocs.io/en/latest/installation.html#python) If you are just doing python development you do not need to install the database.\n"
   ]
  },
  {
   "attachments": {},
   "cell_type": "markdown",
   "id": "compact-mills",
   "metadata": {},
   "source": [
    "## Acknowlegdments\n",
    "\n",
    "Big thanks to all the dedicated scientists who went out and collected these invaluable datasets. \n",
    "\n",
    "A huge thanks to HP Marshall who originally gave us the opportunity to build this a couple years ago. And thanks to Joe Meyer who pursued funding to develop it further. Buy them a beer or better yet volunteer for field work to hang out with them! \n",
    "\n",
    "❄️ **Go forth and snow science!** ❄️"
   ]
  },
  {
   "cell_type": "code",
   "execution_count": null,
   "id": "df844503-99b5-4f74-9eea-2b0753062012",
   "metadata": {},
   "outputs": [],
   "source": []
  }
 ],
 "metadata": {
  "kernelspec": {
   "display_name": "Python 3 (ipykernel)",
   "language": "python",
   "name": "python3"
  },
  "language_info": {
   "codemirror_mode": {
    "name": "ipython",
    "version": 3
   },
   "file_extension": ".py",
   "mimetype": "text/x-python",
   "name": "python",
   "nbconvert_exporter": "python",
   "pygments_lexer": "ipython3",
   "version": "3.11.9"
  }
 },
 "nbformat": 4,
 "nbformat_minor": 5
}
