{
 "cells": [
  {
   "cell_type": "markdown",
   "metadata": {},
   "source": [
    "# SnowEx Database Introduction\n",
    "\n",
    " \n",
    "__Tutorial Author Micah'__: [Micah Sandusky](https://github.com/micah-prime)\n",
    "\n",
    "__Tutorial Author Micah_o__: [Micah Johnson](https://github.com/micahjohnson150)\n",
    "\n",
    "[SnowEx](https://snow.nasa.gov/campaigns/snowex) has introduced a unique opportunity to study SWE in a way that's unprecedented, but with more data comes new challenges. \n",
    "\n",
    "![examples](./images/data_examples.png)\n",
    "\n",
    "\n",
    "<!-- \n",
    "<img src=\"https://snowexsql.readthedocs.io/en/latest/_images/gallery_overview_example_12_0.png\" alt=\"Grand Mesa Overview\" width=\"1000px\"> -->\n",
    "\n",
    "**The SnowEx database is a resource that shortcuts the time it takes to ask cross dataset questions**\n",
    "\n",
    "      \n",
    "- Standardizing diverse data\n",
    "- Cross referencing data\n",
    "- Provenance!\n",
    "- Added GIS functionality\n",
    "- Connect w/ ArcGIS or QGIS!\n",
    "- **CITABLE** \n",
    "\n",
    "    * [*2022- Estimating snow accumulation and ablation with L-band interferometric synthetic aperture radar (InSAR)*](https://tc.copernicus.org/articles/17/1997/2023/tc-17-1997-2023-discussion.html)\n",
    "    * [*2024 - Thermal infrared shadow-hiding in GOES-R ABI imagery: snow and forest temperature observations from the SnowEx 2020 Grand Mesa field campaign*](https://tc.copernicus.org/articles/18/2257/2024/)\n",
    "      \n",
    "      \n",
    "\n",
    "## What's in it?\n",
    "\n",
    "* Snow pits - Density, hardness profiles, grain types + sizes\n",
    "* Manual snow depths - TONS of depths (Can you say spirals?)\n",
    "* Snow Micropenetrometer (SMP) profiles - (Subsampled to every 100th)\n",
    "* Snow depth + SWE rasters from ASO Inc.\n",
    "* GPR\n",
    "* Pit site notes\n",
    "* Camera Derived snow depths\n",
    "* Snow off DEM from USGS 3DEP \n",
    "* And almost all the associated metadata\n",
    "\n",
    "## Technically, what is it?\n",
    "\n",
    "* PostgreSQL database\n",
    "* PostGIS extension\n",
    "* Supports vector and raster data\n",
    "* And a host of GIS operations\n",
    "* AND NOW WITH API!\n",
    "\n",
    "\n",
    "### So what's the catch?\n",
    "New tech can create barriers...\n",
    "\n",
    "```{figure} ./images/pits_not_bits.jpg\n",
    ":scale: 20 %\n",
    ":alt: pits not bits\n",
    "```\n",
    "\n",
    "### TL;DR Do less wrangling, do more crunching. "
   ]
  },
  {
   "cell_type": "markdown",
   "metadata": {},
   "source": [
    "## How do I get at this magical box of data ?\n",
    "* [SQL](https://www.postgresql.org/docs/13/tutorial-sql.html) \n",
    "* [snowexsql](https://github.com/SnowEx/snowexsql/) <span style=\"font-size:20pt;\"> **&#8592; 😎**</span>\n",
    "\n",
    "\n",
    "### Welcome to API Land"
   ]
  },
  {
   "cell_type": "code",
   "execution_count": null,
   "metadata": {},
   "outputs": [],
   "source": [
    "from snowexsql.api import PointMeasurements\n",
    "\n",
    "df = PointMeasurements.from_filter(type=\"depth\", instrument='pit ruler', limit=100)\n",
    "df.plot(column='value', cmap='jet', vmin=10, vmax=150)\n",
    "df"
   ]
  },
  {
   "cell_type": "markdown",
   "metadata": {},
   "source": [
    "### Old Ways / Advanced Users \n",
    "Advanced queries can be made using SQL or SQAlchemy under the hood. \n",
    "\n",
    "See previous presentations\n",
    "\n",
    "Engine objects, session objects, and a crash course in ORM, oh my! \n",
    "* [Hackweek 2021](https://snowex-2021.hackweek.io/tutorials/database/index.html)\n",
    "* [Hackweek 2022](https://snowex-2022.hackweek.io/tutorials/database/index.html)"
   ]
  },
  {
   "cell_type": "code",
   "execution_count": null,
   "metadata": {},
   "outputs": [],
   "source": []
  }
 ],
 "metadata": {
  "kernelspec": {
   "display_name": "Python 3 (ipykernel)",
   "language": "python",
   "name": "python3"
  },
  "language_info": {
   "codemirror_mode": {
    "name": "ipython",
    "version": 3
   },
   "file_extension": ".py",
   "mimetype": "text/x-python",
   "name": "python",
   "nbconvert_exporter": "python",
   "pygments_lexer": "ipython3",
   "version": "3.11.9"
  }
 },
 "nbformat": 4,
 "nbformat_minor": 4
}
