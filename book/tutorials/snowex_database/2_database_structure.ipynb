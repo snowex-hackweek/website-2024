{
 "cells": [
  {
   "cell_type": "markdown",
   "id": "8d563d3c",
   "metadata": {},
   "source": [
    "# How is the Database Structured?\n",
    "\n",
    "The goal of the database is to hold as much of the SnowEx data in one place and make it easier to \n",
    "do research with. With that in mind follow the steps below to see how the the data base is structured.\n"
   ]
  },
  {
   "cell_type": "markdown",
   "id": "a9f0a9c7",
   "metadata": {},
   "source": [
    "## Where do datasets live (i.e. tables)?\n",
    "\n",
    "Data in the database lives in 1 of 4 places. \n",
    "\n",
    "\n",
    "```{figure} ./images/structure.png\n",
    ":scale: 50 %\n",
    ":alt: Structure of the snowex db\n",
    "\n",
    "Layout of the database tables\n",
    "\n",
    "```\n",
    "\n",
    "The 4th table is a table detailing the site information. Lots and lots of metadata for which the API has not been written yet.\n",
    "\n",
    "So how does this look in python?"
   ]
  },
  {
   "cell_type": "code",
   "execution_count": null,
   "id": "979fad96",
   "metadata": {},
   "outputs": [],
   "source": [
    "from snowexsql.api import PointMeasurements, LayerMeasurements, RasterMeasurements"
   ]
  },
  {
   "cell_type": "markdown",
   "id": "07bf71eb",
   "metadata": {},
   "source": [
    "## How are tables structured?\n",
    "Each table consists of rows and columns. Below are the available columns!\n"
   ]
  },
  {
   "cell_type": "code",
   "execution_count": null,
   "id": "8fd4e693",
   "metadata": {},
   "outputs": [],
   "source": [
    "# Import the class reflecting the points table in the db\n",
    "from snowexsql.api import PointMeasurements as measurements\n",
    "\n",
    "# Grab one measurement to see what attributes are available\n",
    "df = measurements.from_filter(type=\"depth\", limit=1)\n",
    "\n",
    "# Print out the results nicely\n",
    "print(\"These are the available columns in the table:\\n \\n* {}\\n\".format('\\n* '.join(df.columns)))"
   ]
  },
  {
   "cell_type": "markdown",
   "id": "ba2df485",
   "metadata": {},
   "source": [
    "**Try this:** Using what we just did, but swap out PointMeasurements for LayerMeasurements.\n",
    "\n",
    "\n",
    "**Question:** Did you collect any data? What is it? What table do you think it would go in?\n",
    "\n",
    "For more detail, checkout the readthedocs page on [database structure](https://snowexsql.readthedocs.io/en/latest/database_structure.html) to see how data gets categorized. "
   ]
  },
  {
   "cell_type": "markdown",
   "id": "6d106e6e",
   "metadata": {},
   "source": [
    "## Bonus Step: Learning to help yourself\n",
    "[snowexsql](https://github.com/SnowEx/snowexsql/) has a host of resources for you to  help your self. First when you are looking for something be sure to check the snowexsql's docs.\n",
    "There you will find notes on the database structure. datasets, and of course our new API! \n",
    "\n",
    "### Database Usage/Examples\n",
    "* [snowexsql Code](https://github.com/SnowEx/snowexsql/) \n",
    "* [snowexsql Documentation](https://snowexsql.readthedocs.io/en/latest/) \n",
    "\n",
    "### Database Building/Notes\n",
    "* [snowex_db Code](https://github.com/SnowEx/snowex_db/) \n",
    "* [snowex_db Documentation](https://snowex_db.readthedocs.io/en/latest/) "
   ]
  },
  {
   "cell_type": "markdown",
   "id": "fbe9ae13",
   "metadata": {},
   "source": [
    "## Recap \n",
    "You just explored the database structure and discussed how they differ.\n",
    "\n",
    "**You should know:**\n",
    "* Which table a dataset might live in\n",
    "* What columns you can work with (or how to get the available columns)\n",
    "* Some resources to begin helping yourself.\n",
    "\n",
    "If you don't feel comfortable with these, you are probably not alone, let's discuss it!"
   ]
  },
  {
   "cell_type": "code",
   "execution_count": null,
   "id": "e260d71e-c4d8-4f4f-b170-4f64f8fa56ed",
   "metadata": {},
   "outputs": [],
   "source": []
  }
 ],
 "metadata": {
  "kernelspec": {
   "display_name": "Python 3 (ipykernel)",
   "language": "python",
   "name": "python3"
  },
  "language_info": {
   "codemirror_mode": {
    "name": "ipython",
    "version": 3
   },
   "file_extension": ".py",
   "mimetype": "text/x-python",
   "name": "python",
   "nbconvert_exporter": "python",
   "pygments_lexer": "ipython3",
   "version": "3.11.9"
  }
 },
 "nbformat": 4,
 "nbformat_minor": 5
}
