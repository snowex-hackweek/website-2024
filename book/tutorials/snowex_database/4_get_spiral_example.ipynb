{
 "cells": [
  {
   "cell_type": "markdown",
   "metadata": {},
   "source": [
    "# Exercise: Visualize a Manual Depth Spiral\n",
    "\n",
    "During the SnowEx campaigns a TON of manual snow depths were collected, past surveys for hackweek showed an overhelming interest in the manual \n",
    "snow depths dataset. This tutorial shows how easy it is to get at that data in the database while learning how to build queries\n",
    "\n",
    "**Goal**: Visualize a small subset of snow depth, ideally a full spiral (mostly cause they are cool!)\n",
    "\n",
    "**Approach**: \n",
    "1. Determine the necessary details for isolating manual depths\n",
    "2. Find a pit where many spirals were done. \n",
    "3. Buffer on the pit location and grab all manual snow depths"
   ]
  },
  {
   "cell_type": "markdown",
   "metadata": {},
   "source": [
    "## Process\n"
   ]
  },
  {
   "cell_type": "code",
   "execution_count": null,
   "metadata": {},
   "outputs": [],
   "source": [
    "from snowexsql.api import LayerMeasurements\n",
    "data_type = 'depth'"
   ]
  },
  {
   "cell_type": "markdown",
   "metadata": {},
   "source": [
    "### Step 1: Find a pit of interest"
   ]
  },
  {
   "cell_type": "code",
   "execution_count": null,
   "metadata": {},
   "outputs": [],
   "source": [
    "# Pick the first one we find\n",
    "site_id = LayerMeasurements().all_site_ids[0]\n",
    "\n",
    "# Query the database, we only need one point to get a site id and its geometry\n",
    "site_df = LayerMeasurements.from_filter(site_id=site_id, limit=1)\n",
    "\n",
    "# Print it out \n",
    "site_df"
   ]
  },
  {
   "cell_type": "markdown",
   "metadata": {},
   "source": [
    "### Step 2: Collect Snow Depths"
   ]
  },
  {
   "cell_type": "code",
   "execution_count": null,
   "metadata": {},
   "outputs": [],
   "source": [
    "# We import the points measurements because snow depths is a single value at single location and date\n",
    "from snowexsql.api import PointMeasurements \n",
    "\n",
    "# Filter the results to within 100m within the point from our pit\n",
    "df = PointMeasurements.from_area(pt=site_df.geometry[0], type=data_type, buffer=200)\n",
    "df"
   ]
  },
  {
   "cell_type": "markdown",
   "metadata": {},
   "source": [
    "### Step 3: Plot it!"
   ]
  },
  {
   "cell_type": "code",
   "execution_count": null,
   "metadata": {
    "tags": [
     "nbsphinx-gallery",
     "nbsphinx-thumbnail"
    ]
   },
   "outputs": [],
   "source": [
    "# Get the Matplotlib Axes object from the dataframe object, color the points by snow depth value\n",
    "ax = df.plot(column='value', legend=True, cmap='PuBu')\n",
    "site_df.plot(ax=ax, marker='^', color='m')\n",
    "\n",
    "# Use non-scientific notation for x and y ticks\n",
    "ax.ticklabel_format(style='plain', useOffset=False)\n",
    "\n",
    "# Set the various plots x/y labels and title.\n",
    "ax.set_title(f'{len(df.index)} Manual Snow depths collected at {site_id}')\n",
    "ax.set_xlabel('Easting [m]')\n",
    "ax.set_ylabel('Northing [m]')\n"
   ]
  },
  {
   "cell_type": "markdown",
   "metadata": {},
   "source": [
    "**Try This:**\n",
    "\n",
    "A. Go back and add a filter to reduce to just one spiral. What would you change to reduce this?\n",
    "\n",
    "B. Try to filtering to add more spirals. What happens?\n",
    "\n",
    "\n",
    "## Recap \n",
    "You just plotted snow depths and reduce the scope of the data by using `from_area` on it\n",
    "\n",
    "**You should know:**\n",
    "\n",
    "* Manual depths are neat.\n",
    "* filter using from area is pretty slick.\n",
    "* We can use LayerMeasurements to get site details easily. \n",
    "\n",
    "\n",
    "If you don't feel comfortable with these, you are probably not alone, let's discuss it!\n"
   ]
  },
  {
   "cell_type": "code",
   "execution_count": null,
   "metadata": {},
   "outputs": [],
   "source": []
  }
 ],
 "metadata": {
  "kernelspec": {
   "display_name": "Python 3 (ipykernel)",
   "language": "python",
   "name": "python3"
  },
  "language_info": {
   "codemirror_mode": {
    "name": "ipython",
    "version": 3
   },
   "file_extension": ".py",
   "mimetype": "text/x-python",
   "name": "python",
   "nbconvert_exporter": "python",
   "pygments_lexer": "ipython3",
   "version": "3.11.9"
  }
 },
 "nbformat": 4,
 "nbformat_minor": 4
}
