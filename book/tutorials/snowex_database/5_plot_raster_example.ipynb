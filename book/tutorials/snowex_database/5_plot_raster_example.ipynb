{
 "cells": [
  {
   "cell_type": "markdown",
   "metadata": {},
   "source": [
    "# Forming Queries with Rasters\n",
    "Querying the database with rasters is essentially the same as with the other two tables. A primary difference however is they are returned as a [rasterio dataset](https://rasterio.readthedocs.io/en/stable/api/rasterio.io.html#rasterio.io.DatasetReader) instead of a dataframe.\n",
    "   \n",
    "## Grab a whole raster. \n",
    "Grabbing whole rasters can be done (albeit with caution) using the `from_filter` function. \n",
    "\n",
    "**Note**: snowexsql will throw an error if you try to pull more than one dataset at a time. This is because this function is merging tiles together based on the query and if the dataset grids dont match the database throws a cryptic error. So we took the liberty ahead of time. \n",
    "\n",
    "**Try this** : To see the error in action, remove the date from the query and run it. \n"
   ]
  },
  {
   "cell_type": "code",
   "execution_count": null,
   "metadata": {},
   "outputs": [],
   "source": [
    "# import in the raster measurements class\n",
    "from snowexsql.api import RasterMeasurements\n",
    "from datetime import datetime \n",
    "from rasterio.plot import show\n",
    "\n",
    "# Pick a date\n",
    "dt = datetime(2020, 2, 13)\n",
    "\n",
    "# Query db filtering to swe on a certain date surveyed by ASO\n",
    "ds = RasterMeasurements.from_filter(observers='ASO Inc.', date=dt, type='swe')\n",
    "\n",
    "# Plot it up!\n",
    "show(ds[0], vmin=0.1, vmax=0.4, cmap='winter')\n",
    "\n",
    "# Note the resolution!\n",
    "ds[0].res"
   ]
  },
  {
   "cell_type": "markdown",
   "metadata": {},
   "source": [
    "### Let's get part of raster dataset centered on a point\n",
    "\n",
    "More reasonably, we often want chucks of rasters given an point or area of interest. Below is an example of how to do this off of a point. "
   ]
  },
  {
   "cell_type": "code",
   "execution_count": null,
   "metadata": {},
   "outputs": [],
   "source": [
    "# Import in the Raster and Layer measurement classes\n",
    "from snowexsql.api import RasterMeasurements, LayerMeasurements\n",
    "from datetime import date\n",
    "from rasterio.plot import show\n",
    "\n",
    "# Pick a site ID\n",
    "site_id = '1N3'\n",
    "df_site = LayerMeasurements.from_filter(site_id=site_id, limit=1)\n",
    "\n",
    "# Grab available dates\n",
    "dates = RasterMeasurements.from_unique_entries([\"date\"], observers='ASO Inc.', type='depth')\n",
    "dt = dates[0]\n",
    "\n",
    "# Subset a raster on our buffered point!\n",
    "ds = RasterMeasurements.from_area(pt=df_site.geometry[0], buffer=100, observers='ASO Inc.', type='depth', \n",
    "                                  date=dt)\n",
    "\n",
    "# Plot it up!\n",
    "show(ds, vmin=0, vmax=1, cmap='winter')\n",
    "\n",
    "# Note the resolution\n",
    "print(ds.res)\n",
    "\n",
    "# Show the site df and available dates. \n",
    "print(dates)\n",
    "\n",
    "# Show off the location dataframe\n",
    "df_site"
   ]
  },
  {
   "cell_type": "markdown",
   "metadata": {},
   "source": [
    "#### Useful rasterio function - `.sample`"
   ]
  },
  {
   "cell_type": "code",
   "execution_count": null,
   "metadata": {},
   "outputs": [],
   "source": [
    "# Demo a useful function from rasterio! \n",
    "\n",
    "# grab the xy as a tuple e.g. (x,y)\n",
    "xy = (df_site.geometry[0].x,  df_site.geometry[0].y)\n",
    "\n",
    "# Use the rasterio sample function and the grab the sample\n",
    "sd = [s[0] for s in ds.sample([xy])][0]\n",
    "\n",
    "# Print it out nice and neat!\n",
    "print(f\"Lidar snow depth = {sd:0.2f}m\")\n"
   ]
  },
  {
   "cell_type": "code",
   "execution_count": null,
   "metadata": {},
   "outputs": [],
   "source": [
    "from snowexsql.api import RasterMeasurements, LayerMeasurements\n",
    "from shapely.geometry import Polygon\n",
    "import geopandas as gpd\n",
    "\n",
    "\n",
    "# Lets form a triangle using site IDs\n",
    "site_id = ['2S6', '2C2', '8N45']\n",
    "\n",
    "# Grab the unique locations for these \n",
    "locations = LayerMeasurements.from_unique_entries(['easting', 'northing'],\n",
    "                                                site_id=site_id)\n",
    "\n",
    "# Form a polygon object\n",
    "triangle = Polygon(locations)\n",
    "\n",
    "# Query the db for raster data in the triangle\n",
    "ds = RasterMeasurements.from_area(shp=triangle, observers='ASO Inc.', type='depth',\n",
    "                                  date=date(2020, 2, 2))\n",
    "# plot it up!\n",
    "show(ds, vmin=0, vmax=1, cmap='winter')"
   ]
  },
  {
   "cell_type": "markdown",
   "metadata": {},
   "source": [
    "## Recap\n",
    "Isolating raster datasets can enable users to build out workflows using only data of interest! No more downloading massive datasets (unless you want to!) \n",
    "\n",
    "**You should know something about**\n",
    "* How `RasterMeasurements.from_*` differ from `PointMeasurements.from*` or `LayerMeasurements.from*`\n",
    "* Raster with too coarse of filtering were error out due to too many datasets.\n",
    "* Rasterio datasets offer a useful sample function for point extraction\n"
   ]
  },
  {
   "cell_type": "code",
   "execution_count": null,
   "metadata": {},
   "outputs": [],
   "source": []
  }
 ],
 "metadata": {
  "kernelspec": {
   "display_name": "Python 3 (ipykernel)",
   "language": "python",
   "name": "python3"
  },
  "language_info": {
   "codemirror_mode": {
    "name": "ipython",
    "version": 3
   },
   "file_extension": ".py",
   "mimetype": "text/x-python",
   "name": "python",
   "nbconvert_exporter": "python",
   "pygments_lexer": "ipython3",
   "version": "3.11.9"
  }
 },
 "nbformat": 4,
 "nbformat_minor": 4
}
